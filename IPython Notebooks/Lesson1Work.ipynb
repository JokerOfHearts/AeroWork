{
 "metadata": {
  "name": "",
  "signature": "sha256:4f6a35a52d9fb1198aaa5b8a3ca0b403e4a80b9276191879895c376204431a11"
 },
 "nbformat": 3,
 "nbformat_minor": 0,
 "worksheets": [
  {
   "cells": [
    {
     "cell_type": "code",
     "collapsed": false,
     "input": [
      "from math import *"
     ],
     "language": "python",
     "metadata": {},
     "outputs": [],
     "prompt_number": 2
    },
    {
     "cell_type": "code",
     "collapsed": false,
     "input": [
      "import numpy as np"
     ],
     "language": "python",
     "metadata": {},
     "outputs": [],
     "prompt_number": 3
    },
    {
     "cell_type": "code",
     "collapsed": false,
     "input": [
      "matplotlib.pyplot as plt"
     ],
     "language": "python",
     "metadata": {},
     "outputs": [
      {
       "ename": "SyntaxError",
       "evalue": "invalid syntax (<ipython-input-1-789d7e8c7b97>, line 1)",
       "output_type": "pyerr",
       "traceback": [
        "\u001b[1;36m  File \u001b[1;32m\"<ipython-input-1-789d7e8c7b97>\"\u001b[1;36m, line \u001b[1;32m1\u001b[0m\n\u001b[1;33m    matplotlib.pyplot as plt\u001b[0m\n\u001b[1;37m                       ^\u001b[0m\n\u001b[1;31mSyntaxError\u001b[0m\u001b[1;31m:\u001b[0m invalid syntax\n"
       ]
      }
     ],
     "prompt_number": 1
    },
    {
     "cell_type": "code",
     "collapsed": false,
     "input": [
      "import matplotlib.pyplot as plt"
     ],
     "language": "python",
     "metadata": {},
     "outputs": [],
     "prompt_number": 2
    },
    {
     "cell_type": "code",
     "collapsed": false,
     "input": [
      "?plt.contour"
     ],
     "language": "python",
     "metadata": {},
     "outputs": [],
     "prompt_number": 3
    },
    {
     "cell_type": "code",
     "collapsed": false,
     "input": [
      "N = 50"
     ],
     "language": "python",
     "metadata": {},
     "outputs": []
    },
    {
     "cell_type": "code",
     "collapsed": false,
     "input": [
      "x_start, x_end = -2.0,2.0"
     ],
     "language": "python",
     "metadata": {},
     "outputs": []
    },
    {
     "cell_type": "code",
     "collapsed": false,
     "input": [
      "y_start, y_end = -1.0, 1.0"
     ],
     "language": "python",
     "metadata": {},
     "outputs": []
    },
    {
     "cell_type": "code",
     "collapsed": false,
     "input": [
      "x = np.linspace(x_start,x_end, N)"
     ],
     "language": "python",
     "metadata": {},
     "outputs": []
    },
    {
     "cell_type": "code",
     "collapsed": false,
     "input": [
      "y = np.linspace(y_start, y_end, N)"
     ],
     "language": "python",
     "metadata": {},
     "outputs": []
    },
    {
     "cell_type": "code",
     "collapsed": false,
     "input": [
      "print 'x = ', x"
     ],
     "language": "python",
     "metadata": {},
     "outputs": []
    },
    {
     "cell_type": "code",
     "collapsed": false,
     "input": [
      "print 'y = ', y"
     ],
     "language": "python",
     "metadata": {},
     "outputs": []
    },
    {
     "cell_type": "code",
     "collapsed": false,
     "input": [
      "print 'y = ', y"
     ],
     "language": "python",
     "metadata": {},
     "outputs": []
    },
    {
     "cell_type": "code",
     "collapsed": false,
     "input": [
      "y_start, y_end = -1.0, 1.0"
     ],
     "language": "python",
     "metadata": {},
     "outputs": []
    },
    {
     "cell_type": "code",
     "collapsed": false,
     "input": [
      "y = np.linspace(y_start, y_end, N)"
     ],
     "language": "python",
     "metadata": {},
     "outputs": []
    },
    {
     "cell_type": "code",
     "collapsed": false,
     "input": [
      "print 'y = ', y"
     ],
     "language": "python",
     "metadata": {},
     "outputs": []
    },
    {
     "cell_type": "code",
     "collapsed": false,
     "input": [
      "X, Y = np.meshgrid(x, y)"
     ],
     "language": "python",
     "metadata": {},
     "outputs": []
    },
    {
     "cell_type": "code",
     "collapsed": false,
     "input": [
      "%matplotlib inline"
     ],
     "language": "python",
     "metadata": {},
     "outputs": []
    },
    {
     "cell_type": "code",
     "collapsed": false,
     "input": [
      "# plots the grid of points"
     ],
     "language": "python",
     "metadata": {},
     "outputs": []
    },
    {
     "cell_type": "code",
     "collapsed": false,
     "input": [
      "size = 10"
     ],
     "language": "python",
     "metadata": {},
     "outputs": []
    },
    {
     "cell_type": "code",
     "collapsed": false,
     "input": [
      "plt.figure(figsize=(size, (y_end-y_start)/(x_end-x_start)*size))"
     ],
     "language": "python",
     "metadata": {},
     "outputs": []
    },
    {
     "cell_type": "code",
     "collapsed": false,
     "input": [
      "plt.xlabel('x', fontsize=16)"
     ],
     "language": "python",
     "metadata": {},
     "outputs": []
    },
    {
     "cell_type": "code",
     "collapsed": false,
     "input": [
      "plt.ylabel('y', fontsize=16)"
     ],
     "language": "python",
     "metadata": {},
     "outputs": []
    },
    {
     "cell_type": "code",
     "collapsed": false,
     "input": [
      "plt.xlim(x_start, x_end)"
     ],
     "language": "python",
     "metadata": {},
     "outputs": []
    },
    {
     "cell_type": "code",
     "collapsed": false,
     "input": [
      "plt.ylim(y_start, y_end)"
     ],
     "language": "python",
     "metadata": {},
     "outputs": []
    },
    {
     "cell_type": "code",
     "collapsed": false,
     "input": [
      "plt.xlim(x_start, x_end)\n",
      "plt.ylim(y_start, y_end)"
     ],
     "language": "python",
     "metadata": {},
     "outputs": []
    },
    {
     "cell_type": "code",
     "collapsed": false,
     "input": [
      "plt.scatter(X, Y, s=10, color='#CD2305', marker='o', linewidth=0)"
     ],
     "language": "python",
     "metadata": {},
     "outputs": []
    },
    {
     "cell_type": "code",
     "collapsed": false,
     "input": [
      "size = 10\n",
      "plt.figure(figsize=(size, (y_end-y_start)/(x_end-x_start)*size))\n",
      "plt.xlabel('x', fontsize=16)\n",
      "plt.ylabel('y', fontsize=16)\n",
      "plt.xlim(x_start, x_end)\n",
      "plt.ylim(y_start, y_end)\n",
      "plt.scatter(X, Y, s=10, color='#CD2305', marker='o', linewidth=0)"
     ],
     "language": "python",
     "metadata": {},
     "outputs": []
    },
    {
     "cell_type": "code",
     "collapsed": false,
     "input": [
      "strength_source = 5.0\n",
      "x_source, y_source = -1.0, 1.0\n",
      "\n",
      "#computing velocity field\n",
      "u_source = strength_source/(2*pi) * (X-x_source)/((X-x_source)**2 + (Y-y_source)**2)\n",
      "v_source = strength_source/(2*pi) * (Y-y_source)/((X-x_source)**2 + (Y-y_source)**2)\n"
     ],
     "language": "python",
     "metadata": {},
     "outputs": []
    },
    {
     "cell_type": "code",
     "collapsed": false,
     "input": [
      "size = 10\n",
      "plt.figure(figsize=(size, (y_end-y_start)/(x_end-x_start)*size))\n",
      "plt.xlabel('x', fontsize=16)\n",
      "plt.ylabel('y', fontsize=16)\n",
      "plt.xlim(x_start, x_end)\n",
      "plt.ylim(y_start, y_end)\n",
      "plt.streamplot(X, Y, u_source, v_source, density=2, linewidth=1, arrowsize=2, arrowstyle='->')\n",
      "plt.scatter(x_source, y_source, color='#CD2305', s=80, marker='o', linewidth=0);"
     ],
     "language": "python",
     "metadata": {},
     "outputs": []
    },
    {
     "cell_type": "code",
     "collapsed": false,
     "input": [
      "strength_source = 5.0\n",
      "x_source, y_source = -1.0, 0.0\n",
      "\n",
      "#computing velocity field\n",
      "u_source = strength_source/(2*pi) * (X-x_source)/((X-x_source)**2 + (Y-y_source)**2)\n",
      "v_source = strength_source/(2*pi) * (Y-y_source)/((X-x_source)**2 + (Y-y_source)**2)\n"
     ],
     "language": "python",
     "metadata": {},
     "outputs": []
    },
    {
     "cell_type": "code",
     "collapsed": false,
     "input": [
      "size = 10\n",
      "plt.figure(figsize=(size, (y_end-y_start)/(x_end-x_start)*size))\n",
      "plt.xlabel('x', fontsize=16)\n",
      "plt.ylabel('y', fontsize=16)\n",
      "plt.xlim(x_start, x_end)\n",
      "plt.ylim(y_start, y_end)\n",
      "plt.streamplot(X, Y, u_source, v_source, density=2, linewidth=1, arrowsize=2, arrowstyle='->')\n",
      "plt.scatter(x_source, y_source, color='#CD2305', s=80, marker='o', linewidth=0);"
     ],
     "language": "python",
     "metadata": {},
     "outputs": []
    },
    {
     "cell_type": "code",
     "collapsed": false,
     "input": [
      "strength_source = 5.0\n",
      "x_source, y_source = -1.0, 0.0\n",
      "\n",
      "#computing velocity field\n",
      "u_source = strength_source/(2*pi) * tan(X-x_source/Y-y_source)**-1\n",
      "v_source = strength_source/(2*pi) * -1*tan(X-x_source/Y-y_source)**-1"
     ],
     "language": "python",
     "metadata": {},
     "outputs": []
    },
    {
     "cell_type": "code",
     "collapsed": false,
     "input": [
      "strength_source = 5.0\n",
      "x_source, y_source = -1.0, 0.0\n",
      "\n",
      "#computing velocity field\n",
      "u_source = strength_source/(2*pi) * tan((X-x_source)/(Y-y_source)**-1\n",
      "v_source = strength_source/(2*pi) * tan((X-x_source)/(Y-y_source)**-1"
     ],
     "language": "python",
     "metadata": {},
     "outputs": []
    },
    {
     "cell_type": "code",
     "collapsed": false,
     "input": [
      "strength_source = 5.0\n",
      "x_source, y_source = -1.0, 0.0\n",
      "\n",
      "#computing velocity field\n",
      "u_source = strength_source/(2*pi) * tan((X-x_source)/(Y-y_source)**-1\n",
      "v_source = strength_source/(2*pi) * tan((X-x_source)/(Y-y_source)**-1\n",
      "                                        "
     ],
     "language": "python",
     "metadata": {},
     "outputs": []
    },
    {
     "cell_type": "code",
     "collapsed": false,
     "input": [
      "strength_source = 5.0\n",
      "x_source, y_source = -1.0, 0.0\n",
      "\n",
      "#computing velocity field\n",
      "u_source = strength_source/(2*pi) * (X-x_source)/((X-x_source)**2 + (Y-y_source)**2)\n",
      "v_source = strength_source/(2*pi) * (Y-y_source)/((X-x_source)**2 + (Y-y_source)**2)\n"
     ],
     "language": "python",
     "metadata": {},
     "outputs": []
    },
    {
     "cell_type": "code",
     "collapsed": false,
     "input": [
      "size = 10\n",
      "plt.figure(figsize=(size, (y_end-y_start)/(x_end-x_start)*size))\n",
      "plt.xlabel('x', fontsize=16)\n",
      "plt.ylabel('y', fontsize=16)\n",
      "plt.xlim(x_start, x_end)\n",
      "plt.ylim(y_start, y_end)\n",
      "plt.streamplot(X, Y, u_source, v_source, density=2, linewidth=1, arrowsize=2, arrowstyle='->')\n",
      "plt.scatter(x_source, y_source, color='#CD2305', s=80, marker='o', linewidth=0);\n"
     ],
     "language": "python",
     "metadata": {},
     "outputs": []
    },
    {
     "cell_type": "code",
     "collapsed": false,
     "input": [
      "strength_sink = -5.0                     # strength of the sink\n",
      "x_sink, y_sink = 1.0, 0.0                # location of the sink\n",
      "\n",
      "# computes the velocity on the mesh grid\n",
      "u_sink = strength_sink/(2*pi) * (X-x_sink)/((X-x_sink)**2 + (Y-y_sink)**2)\n",
      "v_sink = strength_sink/(2*pi) * (Y-y_sink)/((X-x_sink)**2 + (Y-y_sink)**2)"
     ],
     "language": "python",
     "metadata": {},
     "outputs": []
    },
    {
     "cell_type": "code",
     "collapsed": false,
     "input": [
      "# plots the streamlines\n",
      "size = 10\n",
      "plt.figure(figsize=(size, (y_end-y_start)/(x_end-x_start)*size))\n",
      "plt.xlabel('x', fontsize=16)\n",
      "plt.ylabel('y', fontsize=16)\n",
      "plt.xlim(x_start, x_end)\n",
      "plt.ylim(y_start, y_end)\n",
      "plt.streamplot(X, Y, u_sink, v_sink, density=2, linewidth=1, arrowsize=2, arrowstyle='->')\n",
      "plt.scatter(x_sink, y_sink, color='#CD2305', s=80, marker='o', linewidth=0);"
     ],
     "language": "python",
     "metadata": {},
     "outputs": []
    },
    {
     "cell_type": "code",
     "collapsed": false,
     "input": [
      "# computes the velocity of the pair source/sink by superposition\n",
      "u_pair = u_source + 6*u_sink\n",
      "v_pair = v_source + 6*v_sink\n",
      "\n",
      "# plots the streamlines of the pair source/sink\n",
      "size = 10\n",
      "plt.figure(figsize=(size, (y_end-y_start)/(x_end-x_start)*size))\n",
      "plt.xlabel('x', fontsize=16)\n",
      "plt.ylabel('y', fontsize=16)\n",
      "plt.xlim(x_start, x_end)\n",
      "plt.ylim(y_start, y_end)\n",
      "plt.streamplot(X, Y, u_pair, v_pair, density=2.0, linewidth=1, arrowsize=2, arrowstyle='->')\n",
      "plt.scatter([x_source, x_sink], [y_source, y_sink], \n",
      "            color='#CD2305', s=80, marker='o', linewidth=0);"
     ],
     "language": "python",
     "metadata": {},
     "outputs": []
    },
    {
     "cell_type": "code",
     "collapsed": false,
     "input": [
      "strength_source = 5.0\n",
      "x_source, y_source = -1.0, 0.0\n",
      "\n",
      "#computing velocity field\n",
      "u_source = strength_source/(2*pi) * log((X-x_source)**2 + (Y-y_source)**2)\n",
      "v_source = strength_source/(2*pi) * log((X-x_source)**2 + (Y-y_source)**2)\n"
     ],
     "language": "python",
     "metadata": {},
     "outputs": []
    },
    {
     "cell_type": "code",
     "collapsed": false,
     "input": [
      "strength_source = 5.0\n",
      "x_source, y_source = -1.0, 0.0\n",
      "\n",
      "#computing velocity field\n",
      "u_source = strength_source/(2*pi) * log(sqrt((X-x_source)**2 + (Y-y_source)**2))\n",
      "v_source = strength_source/(2*pi) * log(sqrt((X-x_source)**2 + (Y-y_source)**2))\n"
     ],
     "language": "python",
     "metadata": {},
     "outputs": []
    },
    {
     "cell_type": "code",
     "collapsed": false,
     "input": [
      "strength_source = 5.0\n",
      "x_source, y_source = -1.0, 0.0\n",
      "\n",
      "#computing velocity field\n",
      "u_source = strength_source/(2*pi) * np.log(sqrt((X-x_source)**2 + (Y-y_source)**2))\n",
      "v_source = strength_source/(2*pi) * np.log(sqrt((X-x_source)**2 + (Y-y_source)**2))\n"
     ],
     "language": "python",
     "metadata": {},
     "outputs": []
    },
    {
     "cell_type": "code",
     "collapsed": false,
     "input": [
      "strength_source = 5.0\n",
      "x_source, y_source = -1.0, 0.0\n",
      "\n",
      "#computing velocity field\n",
      "u_source = strength_source/(2*pi) * log(np.sqrt((X-x_source)**2 + (Y-y_source)**2))\n",
      "v_source = strength_source/(2*pi) * log(np.sqrt((X-x_source)**2 + (Y-y_source)**2))\n"
     ],
     "language": "python",
     "metadata": {},
     "outputs": []
    },
    {
     "cell_type": "code",
     "collapsed": false,
     "input": [
      "strength_source = 5.0\n",
      "x_source, y_source = -1.0, 0.0\n",
      "\n",
      "#computing velocity field\n",
      "u_source = strength_source/(2*pi) * np.log(np.sqrt((X-x_source)**2 + (Y-y_source)**2))\n",
      "v_source = strength_source/(2*pi) * np.log(np.sqrt((X-x_source)**2 + (Y-y_source)**2))\n"
     ],
     "language": "python",
     "metadata": {},
     "outputs": []
    },
    {
     "cell_type": "code",
     "collapsed": false,
     "input": [
      "size = 10\n",
      "plt.figure(figsize=(size, (y_end-y_start)/(x_end-x_start)*size))\n",
      "plt.xlabel('x', fontsize=16)\n",
      "plt.ylabel('y', fontsize=16)\n",
      "plt.xlim(x_start, x_end)\n",
      "plt.ylim(y_start, y_end)\n",
      "plt.streamplot(X, Y, u_source, v_source, density=2, linewidth=1, arrowsize=2, arrowstyle='->')\n",
      "plt.scatter(x_source, y_source, color='#CD2305', s=80, marker='o', linewidth=0);\n"
     ],
     "language": "python",
     "metadata": {},
     "outputs": []
    },
    {
     "cell_type": "code",
     "collapsed": false,
     "input": [
      "size = 10\n",
      "plt.figure(figsize=(size, (y_end-y_start)/(x_end-x_start)*size))\n",
      "plt.xlabel('x', fontsize=16)\n",
      "plt.ylabel('y', fontsize=16)\n",
      "plt.xlim(x_start, x_end)\n",
      "plt.ylim(y_start, y_end)\n",
      "plt.contour(X, Y, u_source, v_source, density=2, linewidth=1, arrowsize=2, arrowstyle='->')\n",
      "plt.scatter(x_source, y_source, color='#CD2305', s=80, marker='o', linewidth=0);\n"
     ],
     "language": "python",
     "metadata": {},
     "outputs": []
    },
    {
     "cell_type": "code",
     "collapsed": false,
     "input": [
      "size = 10\n",
      "plt.figure(figsize=(size, (y_end-y_start)/(x_end-x_start)*size))\n",
      "plt.xlabel('x', fontsize=16)\n",
      "plt.ylabel('y', fontsize=16)\n",
      "plt.xlim(x_start, x_end)\n",
      "plt.ylim(y_start, y_end)\n",
      "plt.contour(X, Y, u_source, v_source, density=2, linewidth=1)\n",
      "plt.scatter(x_source, y_source, color='#CD2305', s=80, marker='o', linewidth=0);\n"
     ],
     "language": "python",
     "metadata": {},
     "outputs": []
    },
    {
     "cell_type": "code",
     "collapsed": false,
     "input": [
      "import matplotlib.cm as cm"
     ],
     "language": "python",
     "metadata": {},
     "outputs": []
    },
    {
     "cell_type": "code",
     "collapsed": false,
     "input": [
      "size = 10\n",
      "plt.figure(figsize=(size, (y_end-y_start)/(x_end-x_start)*size))\n",
      "plt.xlabel('x', fontsize=16)\n",
      "plt.ylabel('y', fontsize=16)\n",
      "plt.xlim(x_start, x_end)\n",
      "plt.ylim(y_start, y_end)\n",
      "plt.contour(X, Y, u_source, v_source, linewidth=1)\n",
      "plt.scatter(x_source, y_source, color='#CD2305', s=80, marker='o', linewidth=0);\n"
     ],
     "language": "python",
     "metadata": {},
     "outputs": []
    },
    {
     "cell_type": "code",
     "collapsed": false,
     "input": [
      "strength_source = 5.0\n",
      "x_source, y_source = -1.0, 0.0\n",
      "\n",
      "#computing velocity field\n",
      "u_source = strength_source/(2*pi) * np.log(np.sqrt((X-x_source)**2))\n",
      "v_source = strength_source/(2*pi) * np.log(np.sqrt((Y-y_source)**2))\n"
     ],
     "language": "python",
     "metadata": {},
     "outputs": []
    },
    {
     "cell_type": "code",
     "collapsed": false,
     "input": [
      "size = 10\n",
      "plt.figure(figsize=(size, (y_end-y_start)/(x_end-x_start)*size))\n",
      "plt.xlabel('x', fontsize=16)\n",
      "plt.ylabel('y', fontsize=16)\n",
      "plt.xlim(x_start, x_end)\n",
      "plt.ylim(y_start, y_end)\n",
      "plt.streamplot(X, Y, u_source, v_source, density=2, linewidth=1, arrowsize=2, arrowstyle='->')\n",
      "plt.scatter(x_source, y_source, color='#CD2305', s=80, marker='o', linewidth=0);\n"
     ],
     "language": "python",
     "metadata": {},
     "outputs": []
    },
    {
     "cell_type": "code",
     "collapsed": false,
     "input": [
      "strength_source = 5.0\n",
      "x_source, y_source = -1.0, 0.0\n",
      "\n",
      "#computing velocity field\n",
      "u_source = strength_source/(2*pi) * np.log(np.sqrt((X-x_source)**2))\n",
      "v_source = strength_source/(2*pi) * np.log(np.sqrt((Y-y_source)**2))\n",
      "size = 10\n",
      "plt.figure(figsize=(size, (y_end-y_start)/(x_end-x_start)*size))\n",
      "plt.xlabel('x', fontsize=16)\n",
      "plt.ylabel('y', fontsize=16)\n",
      "plt.xlim(x_start, x_end)\n",
      "plt.ylim(y_start, y_end)\n",
      "plt.streamplot(X, Y, u_source, v_source, density=2, linewidth=1, arrowsize=2, arrowstyle='->')\n",
      "plt.scatter(x_source, y_source, color='#CD2305', s=80, marker='o', linewidth=0);\n",
      "\n"
     ],
     "language": "python",
     "metadata": {},
     "outputs": []
    },
    {
     "cell_type": "code",
     "collapsed": false,
     "input": [
      "strength_source = 5.0\n",
      "x_source, y_source = -1.0, 0.0\n",
      "\n",
      "#computing velocity field\n",
      "u_source = strength_source/(2*pi) * np.log(np.sqrt((X-x_source)**2 + (Y-y_source)**2))\n",
      "v_source = strength_source/(2*pi) * np.log(np.sqrt((X-x_source)**2 + (Y-y_source)**2))\n",
      "size = 10\n",
      "plt.figure(figsize=(size, (y_end-y_start)/(x_end-x_start)*size))\n",
      "plt.xlabel('x', fontsize=16)\n",
      "plt.ylabel('y', fontsize=16)\n",
      "plt.xlim(x_start, x_end)\n",
      "plt.ylim(y_start, y_end)\n",
      "plt.contour(X, Y, u_source, v_source)\n"
     ],
     "language": "python",
     "metadata": {},
     "outputs": []
    },
    {
     "cell_type": "code",
     "collapsed": false,
     "input": [
      "strength_source = 5.0\n",
      "x_source, y_source = -1.0, 0.0\n",
      "\n",
      "#computing velocity field\n",
      "u_source = strength_source/(2*pi) * np.log(np.sqrt((X-x_source)**2 + (Y-y_source)**2))\n",
      "v_source = strength_source/(2*pi) * np.log(np.sqrt((X-x_source)**2 + (Y-y_source)**2))\n",
      "size = 10\n",
      "#plt.figure(figsize=(size, (y_end-y_start)/(x_end-x_start)*size))\n",
      "#plt.xlabel('x', fontsize=16)\n",
      "#plt.ylabel('y', fontsize=16)\n",
      "#plt.xlim(x_start, x_end)\n",
      "plt.ylim(y_start, y_end)\n",
      "plt.contour(X, Y, u_source, v_source, 8)\n"
     ],
     "language": "python",
     "metadata": {},
     "outputs": []
    },
    {
     "cell_type": "code",
     "collapsed": false,
     "input": [
      "?plt.contour"
     ],
     "language": "python",
     "metadata": {},
     "outputs": []
    },
    {
     "cell_type": "code",
     "collapsed": false,
     "input": [
      "strength_source = 5.0\n",
      "strength_sink = -5.0\n",
      "x_source, y_source = -1.0, 0.0\n",
      "x_sink, y_sink = 1.0, 0.0\n",
      "\n",
      "#computing potential fields\n",
      "u_source = strength_source/(2*pi) * np.log(np.sqrt((X-x_source)**2 + (Y-y_source)**2))\n",
      "u_sink = strength_sink/(2*pi) * np.log(np.sqrt((X-x_sink)**2 + (Y-y_sink)**2))\n",
      "u_pair = u_source + u_sink\n",
      "\n",
      "#graphing\n",
      "size = 10\n",
      "plt.figure(figsize=(size, (y_end-y_start)/(x_end-x_start)*size))\n",
      "plt.xlabel('x', fontsize=16)\n",
      "plt.ylabel('y', fontsize=16)\n",
      "plt.xlim(x_start, x_end)\n",
      "plt.ylim(y_start, y_end)\n",
      "plt.contour(X, Y, u_pair, 24)\n"
     ],
     "language": "python",
     "metadata": {},
     "outputs": []
    },
    {
     "cell_type": "code",
     "collapsed": false,
     "input": [],
     "language": "python",
     "metadata": {},
     "outputs": []
    }
   ],
   "metadata": {}
  }
 ]
}