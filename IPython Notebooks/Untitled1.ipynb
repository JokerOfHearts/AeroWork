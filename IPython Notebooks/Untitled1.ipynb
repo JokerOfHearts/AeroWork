{
 "metadata": {
  "name": "",
  "signature": "sha256:cca13daf123d2af79d66dd804f51e102db8533f62349a40d175c38a8af842fe1"
 },
 "nbformat": 3,
 "nbformat_minor": 0,
 "worksheets": []
}